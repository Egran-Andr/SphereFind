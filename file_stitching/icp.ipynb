{
 "cells": [
  {
   "cell_type": "code",
   "id": "af21fcf2",
   "metadata": {
    "ExecuteTime": {
     "end_time": "2025-07-16T15:10:40.615622Z",
     "start_time": "2025-07-16T15:10:40.607814Z"
    }
   },
   "source": [
    "import numpy as np\n",
    "from pathlib import Path\n",
    "import matplotlib.pyplot as plt\n",
    "from matplotlib.patches  import Circle   \n",
    "from scipy.optimize import least_squares\n",
    "import open3d as o3d\n",
    "import sys\n",
    "import os\n",
    "import time"
   ],
   "outputs": [],
   "execution_count": 24
  },
  {
   "cell_type": "code",
   "id": "5efc6ae8",
   "metadata": {
    "ExecuteTime": {
     "end_time": "2025-07-16T14:59:44.606019Z",
     "start_time": "2025-07-16T14:59:44.582320Z"
    }
   },
   "source": [
    "def viz(pcd, name=\"3D Point Cloud\"):\n",
    "    o3d.visualization.draw_geometries([pcd], \n",
    "                                  window_name=name,\n",
    "                                  width=1280,\n",
    "                                  height=1080)"
   ],
   "outputs": [],
   "execution_count": 10
  },
  {
   "cell_type": "code",
   "id": "232a4304",
   "metadata": {
    "ExecuteTime": {
     "end_time": "2025-07-16T14:59:45.626292Z",
     "start_time": "2025-07-16T14:59:45.620607Z"
    }
   },
   "source": [
    "def compute_fpfh_features(pcd, feature_radius):\n",
    "    \"\"\"\n",
    "    Вычисляет FPFH дескрипторы для облака точек.\n",
    "    \"\"\"\n",
    "    pcd_fpfh = o3d.pipelines.registration.compute_fpfh_feature(\n",
    "        pcd,\n",
    "        o3d.geometry.KDTreeSearchParamHybrid(radius=feature_radius, max_nn=50)) # max_nn для FPFH обычно больше\n",
    "    return pcd_fpfh"
   ],
   "outputs": [],
   "execution_count": 11
  },
  {
   "cell_type": "code",
   "id": "b391b64b",
   "metadata": {
    "ExecuteTime": {
     "end_time": "2025-07-16T15:01:51.196528Z",
     "start_time": "2025-07-16T15:01:48.362163Z"
    }
   },
   "source": [
    "# Кропаем по Z каждый pcd, достаем пластину\n",
    "\n",
    "pcd = o3d.io.read_point_cloud(\"file_stitching/crop_to_crop_testing/output/fragment_4.pcd\")\n",
    "pcd = pcd.remove_non_finite_points()\n",
    "\n",
    "print(f\"Исходное количество точек: {len(pcd.points)}\")\n",
    "\n",
    "# Получаем текущие границы облака\n",
    "min_overall_bound = pcd.get_min_bound()\n",
    "max_overall_bound = pcd.get_max_bound()\n",
    "\n",
    "print(f\"Исходные минимальные координаты: {min_overall_bound}\")\n",
    "print(f\"Исходные максимальные координаты: {max_overall_bound}\")\n",
    "\n",
    "\n",
    "z_max_to_keep = max_overall_bound[2]\n",
    "z_min_to_keep = max_overall_bound[2] - 150\n",
    "\n",
    "\n",
    "min_bound_for_crop = np.array([min_overall_bound[0], min_overall_bound[1], z_min_to_keep])\n",
    "max_bound_for_crop = np.array([max_overall_bound[0], max_overall_bound[1], z_max_to_keep])\n",
    "\n",
    "\n",
    "# Создаем выровненный по осям ограничивающий ящик\n",
    "bbox = o3d.geometry.AxisAlignedBoundingBox(min_bound_for_crop, max_bound_for_crop)\n",
    "\n",
    "# 3. Отсечение Облака Точек\n",
    "cropped_pcd = pcd.crop(bbox)\n",
    "\n",
    "print(f\"Количество точек после отсечения по Z: {len(cropped_pcd.points)}\")\n",
    "\n",
    "\n",
    "# 4. Сохранение Отсеченного Облака Точек\n",
    "output_filename = \"file_stitching/crop_to_crop_testing/output/cloud_recon_4_cropped_.pcd\" # Имя выходного файла\n",
    "o3d.io.write_point_cloud(output_filename, cropped_pcd) # , write_ascii=True)\n",
    "\n",
    "print(f\"Отсеченное облако точек сохранено в: {output_filename}\")\n",
    "\n",
    "# Визуализация исходного и отсеченного облаков (для сравнения)\n",
    "viz(pcd, \"Исходное облако\")\n",
    "viz(cropped_pcd, \"Отсеченное по Z облако\")\n"
   ],
   "outputs": [
    {
     "name": "stdout",
     "output_type": "stream",
     "text": [
      "Исходное количество точек: 291399\n",
      "Исходные минимальные координаты: [0. 0. 0.]\n",
      "Исходные максимальные координаты: [300.58532715 150.76516724  68.1679306 ]\n",
      "Количество точек после отсечения по Z: 291399\n",
      "Отсеченное облако точек сохранено в: file_stitching/crop_to_crop_testing/output/cloud_recon_4_cropped_.pcd\n"
     ]
    }
   ],
   "execution_count": 15
  },
  {
   "cell_type": "code",
   "id": "defca19d",
   "metadata": {
    "ExecuteTime": {
     "end_time": "2025-07-16T15:16:12.370187Z",
     "start_time": "2025-07-16T15:16:05.426641Z"
    }
   },
   "source": [
    "pcd_1 = o3d.io.read_point_cloud(Path(\"file_stitching/crop_to_crop_testing/output/cloud_recon_2_cropped_.pcd\"))\n",
    "pcd_2 = o3d.io.read_point_cloud(Path(\"file_stitching/crop_to_crop_testing/output/cloud_recon_4_cropped_.pcd\"))\n",
    "\n",
    "\n",
    "viz(pcd_1)\n",
    "viz(pcd_2)\n"
   ],
   "outputs": [],
   "execution_count": 35
  },
  {
   "cell_type": "code",
   "id": "497fbdcb",
   "metadata": {
    "ExecuteTime": {
     "end_time": "2025-07-16T15:16:18.240123Z",
     "start_time": "2025-07-16T15:16:14.512750Z"
    }
   },
   "source": [
    "voxel_size = 1.5\n",
    "\n",
    "downsampled_pcd_1 = pcd_1.voxel_down_sample(voxel_size=voxel_size)\n",
    "downsampled_pcd_2 = pcd_2.voxel_down_sample(voxel_size=voxel_size)\n",
    "\n",
    "\n",
    "print(f\"Исходное количество точек: {len(pcd_1.points)}\")\n",
    "print(f\"Количество точек после downsampling: {len(downsampled_pcd_1.points)}\")\n",
    "print(f\"Исходное количество точек: {len(pcd_2.points)}\")\n",
    "print(f\"Количество точек после downsampling: {len(downsampled_pcd_2.points)}\")\n",
    "\n",
    "\n",
    "viz(downsampled_pcd_1)\n",
    "viz(downsampled_pcd_2)\n",
    "\n"
   ],
   "outputs": [
    {
     "name": "stdout",
     "output_type": "stream",
     "text": [
      "Исходное количество точек: 286507\n",
      "Количество точек после downsampling: 25550\n",
      "Исходное количество точек: 291399\n",
      "Количество точек после downsampling: 25415\n"
     ]
    }
   ],
   "execution_count": 36
  },
  {
   "cell_type": "code",
   "id": "87781caf",
   "metadata": {
    "ExecuteTime": {
     "end_time": "2025-07-16T15:16:29.849954Z",
     "start_time": "2025-07-16T15:16:19.994023Z"
    }
   },
   "source": [
    "downsampled_pcd_norm_1 = downsampled_pcd_1\n",
    "downsampled_pcd_norm_2 = downsampled_pcd_2\n",
    "\n",
    "\n",
    "search_radius = voxel_size * 2  # Пример: 30 мм, если voxel_size ~10 мм\n",
    "max_num_neighbors = 20 # Максимальное количество соседей\n",
    "\n",
    "print(f\"Вычисляем нормали для облака с {len(downsampled_pcd_norm_1.points)} точками...\")\n",
    "print(f\"Вычисляем нормали для облака с {len(downsampled_pcd_norm_2.points)} точками...\")\n",
    "\n",
    "\n",
    "\n",
    "\n",
    "# Вычисление нормалей\n",
    "downsampled_pcd_norm_1.estimate_normals(\n",
    "    search_param=o3d.geometry.KDTreeSearchParamHybrid(radius=search_radius, max_nn=max_num_neighbors)\n",
    ")\n",
    "downsampled_pcd_norm_2.estimate_normals(\n",
    "    search_param=o3d.geometry.KDTreeSearchParamHybrid(radius=search_radius, max_nn=max_num_neighbors)\n",
    ")\n",
    "\n",
    "print(\"Нормали вычислены.\")\n",
    "\n",
    "# Опционально: Ориентация нормалей (для согласованности)\n",
    "# Это может улучшить качество некоторых последующих операций.\n",
    "# Для вашей калибровочной панели, если она относительно плоская,\n",
    "# `orient_normals_consistent_tangent_plane` может быть хорошим выбором.\n",
    "downsampled_pcd_norm_1.orient_normals_consistent_tangent_plane(k=max_num_neighbors)\n",
    "downsampled_pcd_norm_2.orient_normals_consistent_tangent_plane(k=max_num_neighbors)\n",
    "\n",
    "print(\"Нормали ориентированы.\")\n",
    "\n",
    "# Визуализация нормалей (ОЧЕНЬ РЕКОМЕНДУЕТСЯ для проверки!)\n",
    "# Визуализация может быть медленной для очень большого количества точек с нормалями.\n",
    "o3d.visualization.draw_geometries([downsampled_pcd_norm_1], point_show_normal=True, width=1280, height=1080)\n",
    "o3d.visualization.draw_geometries([downsampled_pcd_norm_2], point_show_normal=True, width=1280, height=1080)\n"
   ],
   "outputs": [
    {
     "name": "stdout",
     "output_type": "stream",
     "text": [
      "Вычисляем нормали для облака с 25550 точками...\n",
      "Вычисляем нормали для облака с 25415 точками...\n",
      "Нормали вычислены.\n",
      "Нормали ориентированы.\n"
     ]
    }
   ],
   "execution_count": 37
  },
  {
   "cell_type": "code",
   "id": "a4704798",
   "metadata": {
    "ExecuteTime": {
     "end_time": "2025-07-16T15:16:36.431305Z",
     "start_time": "2025-07-16T15:16:32.705594Z"
    }
   },
   "source": [
    "o3d.visualization.draw_geometries([downsampled_pcd_norm_1], point_show_normal=True, width=1280, height=1080)\n",
    "o3d.visualization.draw_geometries([downsampled_pcd_norm_2], point_show_normal=True, width=1280, height=1080)\n"
   ],
   "outputs": [],
   "execution_count": 38
  },
  {
   "cell_type": "code",
   "id": "91fba7a0",
   "metadata": {
    "ExecuteTime": {
     "end_time": "2025-07-16T15:16:48.487686Z",
     "start_time": "2025-07-16T15:16:47.776413Z"
    }
   },
   "source": [
    "feature_radius = search_radius * 5\n",
    "\n",
    "fpfh_side1 = compute_fpfh_features(downsampled_pcd_norm_1, feature_radius)\n",
    "fpfh_side2 = compute_fpfh_features(downsampled_pcd_norm_2, feature_radius)\n",
    "\n",
    "\n",
    "print(\"FPFH дескрипторы вычислены для всех облаков.\")"
   ],
   "outputs": [
    {
     "name": "stdout",
     "output_type": "stream",
     "text": [
      "FPFH дескрипторы вычислены для всех облаков.\n"
     ]
    }
   ],
   "execution_count": 39
  },
  {
   "cell_type": "code",
   "id": "a95b66fe",
   "metadata": {
    "ExecuteTime": {
     "end_time": "2025-07-16T15:16:53.435113Z",
     "start_time": "2025-07-16T15:16:53.426403Z"
    }
   },
   "source": [
    "def execute_icp_registration(source_pcd, target_pcd, init_transform, voxel_size, max_iterations=200):\n",
    "    \"\"\"\n",
    "    Выполняет точную регистрацию ICP (Point-to-Plane).\n",
    "    \"\"\"\n",
    "    # max_correspondence_distance для ICP обычно равен или чуть больше voxel_size\n",
    "    icp_distance_threshold = voxel_size * 1.5 # Или voxel_size * 1.0, 2.0. Поэкспериментируйте.\n",
    "\n",
    "    print(f\"ICP: Max correspondence distance set to {icp_distance_threshold:.2f} (mm if voxel_size is mm)\")\n",
    "\n",
    "    reg_result = o3d.pipelines.registration.registration_icp(\n",
    "        source_pcd,\n",
    "        target_pcd,\n",
    "        icp_distance_threshold, # Порог расстояния для ICP\n",
    "        init_transform,         # Начальная трансформация (от глобальной регистрации)\n",
    "        o3d.pipelines.registration.TransformationEstimationPointToPlane(), # Point-to-Plane ICP\n",
    "        o3d.pipelines.registration.ICPConvergenceCriteria(\n",
    "            relative_fitness=1e-6,  # Порог изменения фитнеса (очень маленький)\n",
    "            relative_rmse=1e-6,     # Порог изменения RMSE (очень маленький)\n",
    "            max_iteration=max_iterations # Максимальное количество итераций ICP\n",
    "        )\n",
    "    )\n",
    "    return reg_result"
   ],
   "outputs": [],
   "execution_count": 40
  },
  {
   "cell_type": "code",
   "id": "406afda6",
   "metadata": {
    "ExecuteTime": {
     "end_time": "2025-07-16T15:17:00.158562Z",
     "start_time": "2025-07-16T15:17:00.151327Z"
    }
   },
   "source": [
    "# Функция для выполнения глобальной регистрации между двумя облаками\n",
    "def execute_global_registration(source_pcd, target_pcd, source_fpfh, target_fpfh, voxel_size):\n",
    "    distance_threshold = voxel_size * 1.5 # или 2.0. Допустимый порог расстояния для соответствий\n",
    "\n",
    "    # Параметры RANSAC для глобальной регистрации\n",
    "    result = o3d.pipelines.registration.registration_ransac_based_on_feature_matching(\n",
    "        source_pcd, target_pcd, source_fpfh, target_fpfh,\n",
    "        mutual_filter=True, \n",
    "        max_correspondence_distance=distance_threshold,\n",
    "        estimation_method=o3d.pipelines.registration.TransformationEstimationPointToPoint(False),\n",
    "        ransac_n=3,\n",
    "        #check_overlap=False, # Можно поставить True, если облака не должны сильно перекрываться, но для вашей задачи False лучше\n",
    "        # check_fitness=True, check_inlier_rmse=True, # Дополнительные проверки, могут замедлить\n",
    "        # Исправлено: max_iteration теперь часть criteria\n",
    "        criteria=o3d.pipelines.registration.RANSACConvergenceCriteria(\n",
    "            max_iteration=3000, # Максимальное количество итераций\n",
    "            confidence=0.99   # Уровень уверенности\n",
    "        )\n",
    "    )\n",
    "    return result"
   ],
   "outputs": [],
   "execution_count": 42
  },
  {
   "cell_type": "code",
   "id": "97807f0b",
   "metadata": {
    "ExecuteTime": {
     "end_time": "2025-07-16T15:19:06.392664Z",
     "start_time": "2025-07-16T15:17:03.747326Z"
    }
   },
   "source": [
    "print(\"Выполняем глобальную регистрацию: pcd_side1 -> pcd_front\")\n",
    "\n",
    "\n",
    "reg_side1_to_front = execute_global_registration(downsampled_pcd_norm_2, downsampled_pcd_norm_1, fpfh_side2, fpfh_side1, voxel_size)\n",
    "\n",
    "print(f\"Результат глобальной регистрации (pcd_side1 -> pcd_front):\")\n",
    "print(reg_side1_to_front)\n",
    "\n",
    "\n",
    "initial_transform_side1 = reg_side1_to_front.transformation\n",
    "\n",
    "\n",
    "pcd_side1_aligned = downsampled_pcd_norm_2.transform(initial_transform_side1)\n",
    "\n",
    "print(\"Визуализация после глобальной регистрации (1 к 3)...\")\n",
    "o3d.visualization.draw_geometries(\n",
    "    [downsampled_pcd_norm_1, pcd_side1_aligned],\n",
    "    window_name=\"Глобальное выравнивание: 1 к 3\",\n",
    "    width=1280, height=1080\n",
    ")\n",
    "\n",
    "\n",
    "# 3. Точная регистрация ICP: downsampled_pcd_norm_1 -> downsampled_pcd_norm_3 (Front)\n",
    "print(\"\\n--- Точная регистрация ICP: downsampled_pcd_norm_1 -> downsampled_pcd_norm_3 ---\")\n",
    "reg_icp_1_to_3 = execute_icp_registration(\n",
    "    pcd_side1_aligned, # Используем уже грубо выровненное облако как источник для ICP\n",
    "    downsampled_pcd_norm_1, # Целевое облако\n",
    "    initial_transform_side1, # Начальная трансформация для ICP (от глобальной регистрации)\n",
    "    voxel_size\n",
    ")\n",
    "\n",
    "print(f\"Результат ICP (fitness={reg_icp_1_to_3.fitness:.4f}, rmse={reg_icp_1_to_3.inlier_rmse:.4f}):\")\n",
    "print(reg_icp_1_to_3)\n",
    "\n",
    "\n",
    "final_transform_1_to_3 = reg_icp_1_to_3.transformation\n",
    "pcd_1_final_aligned = downsampled_pcd_norm_2.transform(final_transform_1_to_3)\n",
    "\n",
    "# --- Визуализация после ICP (для проверки точности) ---\n",
    "print(\"Визуализация после ICP (1 к 3)...\")\n",
    "o3d.visualization.draw_geometries(\n",
    "    [downsampled_pcd_norm_1, pcd_1_final_aligned],\n",
    "    window_name=\"ICP выравнивание: 1 к 3\",\n",
    "    width=1280, height=1080\n",
    ")\n",
    "\n",
    "\n",
    "\n",
    "# --- Объединение двух выровненных облаков ---\n",
    "print(\"\\n--- Объединение выровненных облаков ---\")\n",
    "combined_pcd_4_clouds = o3d.geometry.PointCloud()\n",
    "\n",
    "# Собираем точки из обоих облаков\n",
    "# downsampled_pcd_norm_3.points и pcd_1_final_aligned.points\n",
    "# уже являются o3d.utility.Vector3dVector.\n",
    "# Чтобы их объединить, сначала преобразуем в NumPy массивы, объединим,\n",
    "# а затем обратно в Vector3dVector.\n",
    "combined_pcd_4_clouds.points = o3d.utility.Vector3dVector(\n",
    "    np.concatenate((\n",
    "        np.asarray(downsampled_pcd_norm_1.points),\n",
    "        np.asarray(pcd_1_final_aligned.points)\n",
    "    ))\n",
    ")\n",
    "\n",
    "# Собираем нормали из обоих облаков\n",
    "combined_pcd_4_clouds.normals = o3d.utility.Vector3dVector(\n",
    "    np.concatenate((\n",
    "        np.asarray(downsampled_pcd_norm_1.normals),\n",
    "        np.asarray(pcd_1_final_aligned.normals)\n",
    "    ))\n",
    ")"
   ],
   "outputs": [
    {
     "name": "stdout",
     "output_type": "stream",
     "text": [
      "Выполняем глобальную регистрацию: pcd_side1 -> pcd_front\n",
      "Результат глобальной регистрации (pcd_side1 -> pcd_front):\n",
      "RegistrationResult with fitness=8.629549e-01, inlier_rmse=8.562587e-01, and correspondence_set size of 21932\n",
      "Access transformation to get result.\n",
      "Визуализация после глобальной регистрации (1 к 3)...\n",
      "\n",
      "--- Точная регистрация ICP: downsampled_pcd_norm_1 -> downsampled_pcd_norm_3 ---\n",
      "ICP: Max correspondence distance set to 2.25 (mm if voxel_size is mm)\n",
      "Результат ICP (fitness=0.5981, rmse=0.6546):\n",
      "RegistrationResult with fitness=5.981114e-01, inlier_rmse=6.545530e-01, and correspondence_set size of 15201\n",
      "Access transformation to get result.\n",
      "Визуализация после ICP (1 к 3)...\n",
      "\n",
      "--- Объединение выровненных облаков ---\n"
     ]
    }
   ],
   "execution_count": 43
  },
  {
   "cell_type": "code",
   "id": "cacfe33e",
   "metadata": {
    "ExecuteTime": {
     "end_time": "2025-07-16T15:19:14.776182Z",
     "start_time": "2025-07-16T15:19:10.705988Z"
    }
   },
   "source": [
    "o3d.visualization.draw_geometries([downsampled_pcd_norm_2, combined_pcd_4_clouds], \n",
    "                                  window_name=\"Глобальное выравнивание: Side1 к Front\",\n",
    "                                  width=1280,\n",
    "                                  height=1080)"
   ],
   "outputs": [],
   "execution_count": 44
  },
  {
   "cell_type": "code",
   "id": "ac2be707",
   "metadata": {
    "ExecuteTime": {
     "end_time": "2025-07-16T15:19:21.296520Z",
     "start_time": "2025-07-16T15:19:17.871536Z"
    }
   },
   "source": [
    "viz(downsampled_pcd_norm_2)\n",
    "viz(downsampled_pcd_norm_1)\n",
    "viz(combined_pcd_4_clouds)"
   ],
   "outputs": [],
   "execution_count": 45
  },
  {
   "cell_type": "code",
   "id": "39f6be52",
   "metadata": {
    "ExecuteTime": {
     "end_time": "2025-07-16T15:20:47.440169Z",
     "start_time": "2025-07-16T15:20:29.697313Z"
    }
   },
   "source": [
    "# --- Опционально: Финальный downsample объединенного облака ---\n",
    "# Это поможет уменьшить плотность в перекрывающихся областях и убрать небольшие шумы.\n",
    "# Используйте меньший voxel_size для этой последней чистки.\n",
    "print(f\"Точек до финального downsample (объединенное): {len(combined_pcd_4_clouds.points)}\")\n",
    "combined_pcd_4_clouds = combined_pcd_4_clouds.voxel_down_sample(voxel_size=voxel_size / 2)\n",
    "print(f\"Точек после финального downsample (объединенное): {len(combined_pcd_4_clouds.points)}\")\n",
    "\n",
    "# --- Визуализация итогового объединенного облака ---\n",
    "print(\"\\n--- Финальная визуализация объединенного облака (две пластины) ---\")\n",
    "o3d.visualization.draw_geometries(\n",
    "    [combined_pcd_4_clouds],\n",
    "    zoom=0.8,\n",
    "    front=[0.45, -0.9, 0.0],\n",
    "    lookat=[0.0, 0.0, 0.0],\n",
    "    up=[0.0, 0.0, 1.0],\n",
    "    window_name=\"Объединенное облако двух пластин\"\n",
    ")\n",
    "\n",
    "# --- Сохранение итогового объединенного облака (опционально) ---\n",
    "output_path = \"combined_two_clouds.pcd\"\n",
    "o3d.io.write_point_cloud(output_path, combined_pcd_4_clouds)\n",
    "print(f\"Объединенное облако сохранено в: {output_path}\")\n",
    "\n",
    "\n",
    "\n",
    "\n",
    "o3d.visualization.draw_geometries([downsampled_pcd_norm_1, pcd_side1_aligned], \n",
    "                                  window_name=\"Глобальное выравнивание: Side1 к Front\",\n",
    "                                  width=1280,\n",
    "                                  height=1080)"
   ],
   "outputs": [
    {
     "name": "stdout",
     "output_type": "stream",
     "text": [
      "Точек до финального downsample (объединенное): 45779\n",
      "Точек после финального downsample (объединенное): 45779\n",
      "\n",
      "--- Финальная визуализация объединенного облака (две пластины) ---\n",
      "Объединенное облако сохранено в: combined_two_clouds.pcd\n"
     ]
    }
   ],
   "execution_count": 47
  }
 ],
 "metadata": {
  "kernelspec": {
   "display_name": "o3d",
   "language": "python",
   "name": "python3"
  },
  "language_info": {
   "codemirror_mode": {
    "name": "ipython",
    "version": 3
   },
   "file_extension": ".py",
   "mimetype": "text/x-python",
   "name": "python",
   "nbconvert_exporter": "python",
   "pygments_lexer": "ipython3",
   "version": "3.10.18"
  }
 },
 "nbformat": 4,
 "nbformat_minor": 5
}
