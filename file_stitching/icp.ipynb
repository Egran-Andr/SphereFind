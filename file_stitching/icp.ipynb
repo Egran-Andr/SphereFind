{
 "cells": [
  {
   "cell_type": "code",
   "id": "af21fcf2",
   "metadata": {
    "ExecuteTime": {
     "end_time": "2025-07-21T12:46:54.169881Z",
     "start_time": "2025-07-21T12:46:54.164695Z"
    }
   },
   "source": [
    "import numpy as np\n",
    "from pathlib import Path\n",
    "import open3d as o3d\n",
    "from scipy.spatial.transform import Rotation as R\n",
    "import copy"
   ],
   "outputs": [],
   "execution_count": 49
  },
  {
   "cell_type": "code",
   "id": "5efc6ae8",
   "metadata": {
    "ExecuteTime": {
     "end_time": "2025-07-21T12:46:55.254444Z",
     "start_time": "2025-07-21T12:46:55.250282Z"
    }
   },
   "source": [
    "def viz(pcd, name=\"3D Point Cloud\"):\n",
    "    o3d.visualization.draw_geometries([pcd], \n",
    "                                  window_name=name,\n",
    "                                  width=1280,\n",
    "                                  height=1080)"
   ],
   "outputs": [],
   "execution_count": 50
  },
  {
   "cell_type": "code",
   "id": "232a4304",
   "metadata": {
    "ExecuteTime": {
     "end_time": "2025-07-21T12:46:56.746250Z",
     "start_time": "2025-07-21T12:46:56.741785Z"
    }
   },
   "source": [
    "def compute_fpfh_features(pcd, feature_radius):\n",
    "    \"\"\"\n",
    "    Вычисляет FPFH дескрипторы для облака точек.\n",
    "    \"\"\"\n",
    "    pcd_fpfh = o3d.pipelines.registration.compute_fpfh_feature(\n",
    "        pcd,\n",
    "        o3d.geometry.KDTreeSearchParamHybrid(radius=feature_radius, max_nn=50)) # max_nn для FPFH обычно больше\n",
    "    return pcd_fpfh"
   ],
   "outputs": [],
   "execution_count": 51
  },
  {
   "cell_type": "code",
   "id": "b391b64b",
   "metadata": {
    "ExecuteTime": {
     "end_time": "2025-07-21T12:47:00.874016Z",
     "start_time": "2025-07-21T12:46:58.825013Z"
    }
   },
   "source": [
    "# Кропаем по Z каждый pcd, достаем пластину\n",
    "\n",
    "pcd = o3d.io.read_point_cloud(\"crop_to_crop_testing/output/fragment_2.pcd\")\n",
    "pcd = pcd.remove_non_finite_points()\n",
    "\n",
    "print(f\"Исходное количество точек: {len(pcd.points)}\")\n",
    "\n",
    "# Получаем текущие границы облака\n",
    "min_overall_bound = pcd.get_min_bound()\n",
    "max_overall_bound = pcd.get_max_bound()\n",
    "\n",
    "print(f\"Исходные минимальные координаты: {min_overall_bound}\")\n",
    "print(f\"Исходные максимальные координаты: {max_overall_bound}\")\n",
    "\n",
    "\n",
    "z_max_to_keep = max_overall_bound[2]\n",
    "z_min_to_keep = max_overall_bound[2] - 150\n",
    "\n",
    "\n",
    "min_bound_for_crop = np.array([min_overall_bound[0], min_overall_bound[1], z_min_to_keep])\n",
    "max_bound_for_crop = np.array([max_overall_bound[0], max_overall_bound[1], z_max_to_keep])\n",
    "\n",
    "\n",
    "# Создаем выровненный по осям ограничивающий ящик\n",
    "bbox = o3d.geometry.AxisAlignedBoundingBox(min_bound_for_crop, max_bound_for_crop)\n",
    "\n",
    "# 3. Отсечение Облака Точек\n",
    "cropped_pcd = pcd.crop(bbox)\n",
    "\n",
    "print(f\"Количество точек после отсечения по Z: {len(cropped_pcd.points)}\")\n",
    "\n",
    "\n",
    "# 4. Сохранение Отсеченного Облака Точек\n",
    "output_filename = \"file_stitching/crop_to_crop_testing/output/cloud_recon_4_cropped_.pcd\" # Имя выходного файла\n",
    "o3d.io.write_point_cloud(output_filename, cropped_pcd) # , write_ascii=True)\n",
    "\n",
    "print(f\"Отсеченное облако точек сохранено в: {output_filename}\")\n",
    "\n",
    "# Визуализация исходного и отсеченного облаков (для сравнения)\n",
    "viz(pcd, \"Исходное облако\")\n",
    "viz(cropped_pcd, \"Отсеченное по Z облако\")\n"
   ],
   "outputs": [
    {
     "name": "stdout",
     "output_type": "stream",
     "text": [
      "Исходное количество точек: 286507\n",
      "Исходные минимальные координаты: [0. 0. 0.]\n",
      "Исходные максимальные координаты: [300.29943848 150.69787598  67.29692841]\n",
      "Количество точек после отсечения по Z: 286507\n",
      "[Open3D WARNING] Write PCD failed: unable to open file.\n",
      "Отсеченное облако точек сохранено в: file_stitching/crop_to_crop_testing/output/cloud_recon_4_cropped_.pcd\n"
     ]
    }
   ],
   "execution_count": 52
  },
  {
   "cell_type": "code",
   "id": "defca19d",
   "metadata": {
    "ExecuteTime": {
     "end_time": "2025-07-21T12:47:05.663436Z",
     "start_time": "2025-07-21T12:47:03.467286Z"
    }
   },
   "source": [
    "pcd_1 = o3d.io.read_point_cloud(Path(\"crop_to_crop_testing/output/cloud_recon_2_cropped_.pcd\"))\n",
    "pcd_2 = o3d.io.read_point_cloud(Path(\"crop_to_crop_testing/output/cloud_recon_4_cropped_.pcd\"))\n",
    "\n",
    "\n",
    "viz(pcd_1)\n",
    "viz(pcd_2)\n"
   ],
   "outputs": [],
   "execution_count": 53
  },
  {
   "cell_type": "code",
   "id": "497fbdcb",
   "metadata": {
    "ExecuteTime": {
     "end_time": "2025-07-21T12:47:09.254434Z",
     "start_time": "2025-07-21T12:47:07.035285Z"
    }
   },
   "source": [
    "voxel_size = 1.5\n",
    "\n",
    "downsampled_pcd_1 = pcd_1.voxel_down_sample(voxel_size=voxel_size)\n",
    "downsampled_pcd_2 = pcd_2.voxel_down_sample(voxel_size=voxel_size)\n",
    "\n",
    "\n",
    "print(f\"Исходное количество точек: {len(pcd_1.points)}\")\n",
    "print(f\"Количество точек после downsampling: {len(downsampled_pcd_1.points)}\")\n",
    "print(f\"Исходное количество точек: {len(pcd_2.points)}\")\n",
    "print(f\"Количество точек после downsampling: {len(downsampled_pcd_2.points)}\")\n",
    "\n",
    "\n",
    "viz(downsampled_pcd_1)\n",
    "viz(downsampled_pcd_2)\n",
    "\n"
   ],
   "outputs": [
    {
     "name": "stdout",
     "output_type": "stream",
     "text": [
      "Исходное количество точек: 286507\n",
      "Количество точек после downsampling: 25550\n",
      "Исходное количество точек: 291399\n",
      "Количество точек после downsampling: 25415\n"
     ]
    }
   ],
   "execution_count": 54
  },
  {
   "cell_type": "code",
   "id": "87781caf",
   "metadata": {
    "ExecuteTime": {
     "end_time": "2025-07-21T12:47:17.642041Z",
     "start_time": "2025-07-21T12:47:11.396498Z"
    }
   },
   "source": [
    "downsampled_pcd_norm_1 = downsampled_pcd_1\n",
    "downsampled_pcd_norm_2 = downsampled_pcd_2\n",
    "\n",
    "\n",
    "search_radius = voxel_size * 2  # Пример: 30 мм, если voxel_size ~10 мм\n",
    "max_num_neighbors = 20 # Максимальное количество соседей\n",
    "\n",
    "print(f\"Вычисляем нормали для облака с {len(downsampled_pcd_norm_1.points)} точками...\")\n",
    "print(f\"Вычисляем нормали для облака с {len(downsampled_pcd_norm_2.points)} точками...\")\n",
    "\n",
    "\n",
    "\n",
    "\n",
    "# Вычисление нормалей\n",
    "downsampled_pcd_norm_1.estimate_normals(\n",
    "    search_param=o3d.geometry.KDTreeSearchParamHybrid(radius=search_radius, max_nn=max_num_neighbors)\n",
    ")\n",
    "downsampled_pcd_norm_2.estimate_normals(\n",
    "    search_param=o3d.geometry.KDTreeSearchParamHybrid(radius=search_radius, max_nn=max_num_neighbors)\n",
    ")\n",
    "\n",
    "print(\"Нормали вычислены.\")\n",
    "\n",
    "# Опционально: Ориентация нормалей (для согласованности)\n",
    "# Это может улучшить качество некоторых последующих операций.\n",
    "# Для вашей калибровочной панели, если она относительно плоская,\n",
    "# `orient_normals_consistent_tangent_plane` может быть хорошим выбором.\n",
    "downsampled_pcd_norm_1.orient_normals_consistent_tangent_plane(k=max_num_neighbors)\n",
    "downsampled_pcd_norm_2.orient_normals_consistent_tangent_plane(k=max_num_neighbors)\n",
    "\n",
    "print(\"Нормали ориентированы.\")\n",
    "\n",
    "# Визуализация нормалей (ОЧЕНЬ РЕКОМЕНДУЕТСЯ для проверки!)\n",
    "# Визуализация может быть медленной для очень большого количества точек с нормалями.\n",
    "o3d.visualization.draw_geometries([downsampled_pcd_norm_1], point_show_normal=True, width=1280, height=1080)\n",
    "o3d.visualization.draw_geometries([downsampled_pcd_norm_2], point_show_normal=True, width=1280, height=1080)\n"
   ],
   "outputs": [
    {
     "name": "stdout",
     "output_type": "stream",
     "text": [
      "Вычисляем нормали для облака с 25550 точками...\n",
      "Вычисляем нормали для облака с 25415 точками...\n",
      "Нормали вычислены.\n",
      "Нормали ориентированы.\n"
     ]
    }
   ],
   "execution_count": 55
  },
  {
   "cell_type": "code",
   "id": "a4704798",
   "metadata": {
    "ExecuteTime": {
     "end_time": "2025-07-21T12:20:06.506822Z",
     "start_time": "2025-07-21T12:20:03.712194Z"
    }
   },
   "source": [
    "o3d.visualization.draw_geometries([downsampled_pcd_norm_1], point_show_normal=True, width=1280, height=1080)\n",
    "o3d.visualization.draw_geometries([downsampled_pcd_norm_2], point_show_normal=True, width=1280, height=1080)\n"
   ],
   "outputs": [],
   "execution_count": 33
  },
  {
   "cell_type": "code",
   "id": "91fba7a0",
   "metadata": {
    "ExecuteTime": {
     "end_time": "2025-07-21T12:47:21.700546Z",
     "start_time": "2025-07-21T12:47:21.001838Z"
    }
   },
   "source": [
    "feature_radius = search_radius * 5\n",
    "\n",
    "fpfh_side1 = compute_fpfh_features(downsampled_pcd_norm_1, feature_radius)\n",
    "fpfh_side2 = compute_fpfh_features(downsampled_pcd_norm_2, feature_radius)\n",
    "\n",
    "\n",
    "print(\"FPFH дескрипторы вычислены для всех облаков.\")"
   ],
   "outputs": [
    {
     "name": "stdout",
     "output_type": "stream",
     "text": [
      "FPFH дескрипторы вычислены для всех облаков.\n"
     ]
    }
   ],
   "execution_count": 56
  },
  {
   "cell_type": "code",
   "id": "a95b66fe",
   "metadata": {
    "ExecuteTime": {
     "end_time": "2025-07-21T12:47:23.097119Z",
     "start_time": "2025-07-21T12:47:23.090672Z"
    }
   },
   "source": [
    "def execute_icp_registration(source_pcd, target_pcd, init_transform, voxel_size, max_iterations=200):\n",
    "    \"\"\"\n",
    "    Выполняет точную регистрацию ICP (Point-to-Plane).\n",
    "    \"\"\"\n",
    "    # max_correspondence_distance для ICP обычно равен или чуть больше voxel_size\n",
    "    icp_distance_threshold = voxel_size * 1.5 # Или voxel_size * 1.0, 2.0. Поэкспериментируйте.\n",
    "\n",
    "    print(f\"ICP: Max correspondence distance set to {icp_distance_threshold:.2f} (mm if voxel_size is mm)\")\n",
    "\n",
    "    reg_result = o3d.pipelines.registration.registration_icp(\n",
    "        source_pcd,\n",
    "        target_pcd,\n",
    "        icp_distance_threshold, # Порог расстояния для ICP\n",
    "        init_transform,         # Начальная трансформация (от глобальной регистрации)\n",
    "        o3d.pipelines.registration.TransformationEstimationPointToPlane(), # Point-to-Plane ICP\n",
    "        o3d.pipelines.registration.ICPConvergenceCriteria(\n",
    "            relative_fitness=1e-6,  # Порог изменения фитнеса (очень маленький)\n",
    "            relative_rmse=1e-6,     # Порог изменения RMSE (очень маленький)\n",
    "            max_iteration=max_iterations + 2000# Максимальное количество итераций ICP\n",
    "        )\n",
    "    )\n",
    "    return reg_result"
   ],
   "outputs": [],
   "execution_count": 57
  },
  {
   "metadata": {
    "ExecuteTime": {
     "end_time": "2025-07-21T12:47:25.003248Z",
     "start_time": "2025-07-21T12:47:24.994173Z"
    }
   },
   "cell_type": "code",
   "source": [
    "def execute_icp_with_shift(source_pcd, target_pcd, shift_vector, voxel_size, max_iterations=200):\n",
    "    \"\"\"\n",
    "    Выполняет ICP-регистрацию (Point-to-Plane) с жёстким начальными смещением.\n",
    "\n",
    "    Параметры:\n",
    "        source_pcd (o3d.geometry.PointCloud): Источник (двигаем его).\n",
    "        target_pcd (o3d.geometry.PointCloud): Цель (остаётся неподвижной).\n",
    "        shift_vector (list/tuple/np.ndarray or 4x4 matrix): Смещение (dx, dy, dz) или начальная матрица.\n",
    "        voxel_size (float): Размер вокселя (используется для установки порога соответствия).\n",
    "        max_iterations (int): Максимальное количество итераций ICP.\n",
    "    \n",
    "    Возвращает:\n",
    "        registration result (RegistrationResult): Результат ICP.\n",
    "    \"\"\"\n",
    "\n",
    "    # Если передан сдвиг-вектор, преобразуем в матрицу 4x4\n",
    "    if isinstance(shift_vector, (list, tuple, np.ndarray)) and len(shift_vector) == 3:\n",
    "        dx, dy, dz = shift_vector\n",
    "        init_transform = np.eye(4)\n",
    "        init_transform[:3, 3] = [dx, dy, dz]\n",
    "    elif isinstance(shift_vector, np.ndarray) and shift_vector.shape == (4, 4):\n",
    "        init_transform = shift_vector\n",
    "    else:\n",
    "        raise ValueError(\"shift_vector должен быть либо (dx, dy, dz), либо матрицей 4x4\")\n",
    "\n",
    "    icp_distance_threshold = voxel_size * 1.5\n",
    "    print(f\"[ICP] Max correspondence distance: {icp_distance_threshold:.3f}\")\n",
    "    print(f\"[ICP] Initial transform:\\n{init_transform}\")\n",
    "\n",
    "    reg_result = o3d.pipelines.registration.registration_icp(\n",
    "        source_pcd,\n",
    "        target_pcd,\n",
    "        icp_distance_threshold,\n",
    "        init_transform,\n",
    "        o3d.pipelines.registration.TransformationEstimationPointToPlane(),\n",
    "        o3d.pipelines.registration.ICPConvergenceCriteria(\n",
    "            relative_fitness=1e-6,\n",
    "            relative_rmse=1e-6,\n",
    "            max_iteration=max_iterations + 2000\n",
    "        )\n",
    "    )\n",
    "    return reg_result"
   ],
   "id": "7177beb903f7cff9",
   "outputs": [],
   "execution_count": 58
  },
  {
   "metadata": {
    "ExecuteTime": {
     "end_time": "2025-07-21T12:47:27.316692Z",
     "start_time": "2025-07-21T12:47:27.311719Z"
    }
   },
   "cell_type": "code",
   "source": [
    "def euler_to_transform_matrix(rx_deg, ry_deg, rz_deg, translation=(0, 0, 0), degrees=True):\n",
    "    \"\"\"\n",
    "    Создает матрицу трансформации 4×4 из углов Эйлера (в градусах) и вектора сдвига.\n",
    "    Порядок поворота: ZYX.\n",
    "    \"\"\"\n",
    "    rot = R.from_euler('zyx', [rz_deg, ry_deg, rx_deg], degrees=degrees)\n",
    "    T = np.eye(4)\n",
    "    T[:3, :3] = rot.as_matrix()\n",
    "    T[:3, 3] = translation\n",
    "    return T"
   ],
   "id": "32ef850ce4a0e54",
   "outputs": [],
   "execution_count": 59
  },
  {
   "metadata": {
    "ExecuteTime": {
     "end_time": "2025-07-21T12:47:29.030020Z",
     "start_time": "2025-07-21T12:47:29.024776Z"
    }
   },
   "cell_type": "code",
   "source": [
    "def extract_edge_by_axis(pcd, axis=2, mode=\"max\", threshold=1.0):\n",
    "    points = np.asarray(pcd.points)\n",
    "    if mode == \"max\":\n",
    "        target_val = np.max(points[:, axis])\n",
    "    elif mode == \"min\":\n",
    "        target_val = np.min(points[:, axis])\n",
    "    else:\n",
    "        raise ValueError(\"mode must be 'min' or 'max'\")\n",
    "    \n",
    "    mask = np.abs(points[:, axis] - target_val) < threshold\n",
    "    edge_points = points[mask]\n",
    "    \n",
    "    edge_pcd = o3d.geometry.PointCloud()\n",
    "    edge_pcd.points = o3d.utility.Vector3dVector(edge_points)\n",
    "    return edge_pcd\n"
   ],
   "id": "aa681b89a86c6677",
   "outputs": [],
   "execution_count": 60
  },
  {
   "metadata": {
    "ExecuteTime": {
     "end_time": "2025-07-21T12:47:30.131503Z",
     "start_time": "2025-07-21T12:47:30.127742Z"
    }
   },
   "cell_type": "code",
   "source": [
    "def get_opposite_mode(mode):\n",
    "    return {\"min\": \"max\", \"max\": \"min\"}[mode]"
   ],
   "id": "12787915cb7711dd",
   "outputs": [],
   "execution_count": 61
  },
  {
   "metadata": {
    "ExecuteTime": {
     "end_time": "2025-07-21T13:26:00.436676Z",
     "start_time": "2025-07-21T13:26:00.432489Z"
    }
   },
   "cell_type": "code",
   "source": [
    "def get_bounding_box_size(pcd):\n",
    "    points = np.asarray(pcd.points)\n",
    "    min_bound = points.min(axis=0)\n",
    "    max_bound = points.max(axis=0)\n",
    "    size = max_bound - min_bound\n",
    "    return size  # Вернёт np.array([dx, dy, dz])"
   ],
   "id": "8bce969e18fc3d02",
   "outputs": [],
   "execution_count": 74
  },
  {
   "metadata": {
    "ExecuteTime": {
     "end_time": "2025-07-21T12:47:34.789953Z",
     "start_time": "2025-07-21T12:47:34.782572Z"
    }
   },
   "cell_type": "code",
   "source": [
    "# Функция для выполнения глобальной регистрации между двумя облаками\n",
    "def execute_global_registration(source_pcd, target_pcd, source_fpfh, target_fpfh, voxel_size):\n",
    "    distance_threshold = voxel_size * 1.5 # или 2.0. Допустимый порог расстояния для соответствий\n",
    "\n",
    "    # Параметры RANSAC для глобальной регистрации\n",
    "    result = o3d.pipelines.registration.registration_ransac_based_on_feature_matching(\n",
    "        source_pcd, target_pcd, source_fpfh, target_fpfh,\n",
    "        mutual_filter=True, \n",
    "        max_correspondence_distance=distance_threshold,\n",
    "        estimation_method=o3d.pipelines.registration.TransformationEstimationPointToPoint(False),\n",
    "        ransac_n=3,\n",
    "        #check_overlap=False, # Можно поставить True, если облака не должны сильно перекрываться, но для вашей задачи False лучше\n",
    "        # check_fitness=True, check_inlier_rmse=True, # Дополнительные проверки, могут замедлить\n",
    "        # Исправлено: max_iteration теперь часть criteria\n",
    "        criteria=o3d.pipelines.registration.RANSACConvergenceCriteria(\n",
    "            max_iteration=3000, # Максимальное количество итераций\n",
    "            confidence=0.99   # Уровень уверенности\n",
    "        )\n",
    "    )\n",
    "    return result"
   ],
   "id": "85c7575bce721bd",
   "outputs": [],
   "execution_count": 62
  },
  {
   "cell_type": "code",
   "id": "97807f0b",
   "metadata": {
    "ExecuteTime": {
     "end_time": "2025-07-21T11:46:49.653751Z",
     "start_time": "2025-07-21T11:45:56.951484Z"
    }
   },
   "source": [
    "# Блок нормального использования ICP алгоритма\n",
    "print(\"Выполняем глобальную регистрацию: pcd_side1 -> pcd_front\")\n",
    "\n",
    "\n",
    "reg_side1_to_front = execute_global_registration(downsampled_pcd_norm_2, downsampled_pcd_norm_1, fpfh_side2, fpfh_side1, voxel_size)\n",
    "\n",
    "print(f\"Результат глобальной регистрации (pcd_side1 -> pcd_front):\")\n",
    "print(reg_side1_to_front)\n",
    "\n",
    "\n",
    "initial_transform_side1 = reg_side1_to_front.transformation\n",
    "\n",
    "\n",
    "pcd_side1_aligned = downsampled_pcd_norm_2.transform(initial_transform_side1)\n",
    "\n",
    "print(\"Визуализация после глобальной регистрации (1 к 3)...\")\n",
    "o3d.visualization.draw_geometries(\n",
    "    [downsampled_pcd_norm_1, pcd_side1_aligned],\n",
    "    window_name=\"Глобальное выравнивание: 1 к 3\",\n",
    "    width=1280, height=1080\n",
    ")\n",
    "\n",
    "\n",
    "# 3. Точная регистрация ICP: downsampled_pcd_norm_1 -> downsampled_pcd_norm_3 (Front)\n",
    "print(\"\\n--- Точная регистрация ICP: downsampled_pcd_norm_1 -> downsampled_pcd_norm_3 ---\")\n",
    "reg_icp_1_to_3 = execute_icp_registration(\n",
    "    pcd_side1_aligned, # Используем уже грубо выровненное облако как источник для ICP\n",
    "    downsampled_pcd_norm_1, # Целевое облако\n",
    "    initial_transform_side1, # Начальная трансформация для ICP (от глобальной регистрации)\n",
    "    voxel_size\n",
    ")\n",
    "\n",
    "print(f\"Результат ICP (fitness={reg_icp_1_to_3.fitness:.4f}, rmse={reg_icp_1_to_3.inlier_rmse:.4f}):\")\n",
    "print(reg_icp_1_to_3)\n",
    "\n",
    "\n",
    "final_transform_1_to_3 = reg_icp_1_to_3.transformation\n",
    "pcd_1_final_aligned = downsampled_pcd_norm_2.transform(final_transform_1_to_3)\n",
    "\n",
    "# --- Визуализация после ICP (для проверки точности) ---\n",
    "print(\"Визуализация после ICP (1 к 3)...\")\n",
    "o3d.visualization.draw_geometries(\n",
    "    [downsampled_pcd_norm_1, pcd_1_final_aligned],\n",
    "    window_name=\"ICP выравнивание: 1 к 3\",\n",
    "    width=1280, height=1080\n",
    ")\n",
    "\n",
    "\n",
    "\n",
    "# --- Объединение двух выровненных облаков ---\n",
    "print(\"\\n--- Объединение выровненных облаков ---\")\n",
    "combined_pcd_4_clouds = o3d.geometry.PointCloud()\n",
    "\n",
    "# Собираем точки из обоих облаков\n",
    "# downsampled_pcd_norm_3.points и pcd_1_final_aligned.points\n",
    "# уже являются o3d.utility.Vector3dVector.\n",
    "# Чтобы их объединить, сначала преобразуем в NumPy массивы, объединим,\n",
    "# а затем обратно в Vector3dVector.\n",
    "combined_pcd_4_clouds.points = o3d.utility.Vector3dVector(\n",
    "    np.concatenate((\n",
    "        np.asarray(downsampled_pcd_norm_1.points),\n",
    "        np.asarray(pcd_1_final_aligned.points)\n",
    "    ))\n",
    ")\n",
    "\n",
    "# Собираем нормали из обоих облаков\n",
    "combined_pcd_4_clouds.normals = o3d.utility.Vector3dVector(\n",
    "    np.concatenate((\n",
    "        np.asarray(downsampled_pcd_norm_1.normals),\n",
    "        np.asarray(pcd_1_final_aligned.normals)\n",
    "    ))\n",
    ")"
   ],
   "outputs": [
    {
     "name": "stdout",
     "output_type": "stream",
     "text": [
      "Выполняем глобальную регистрацию: pcd_side1 -> pcd_front\n",
      "Результат глобальной регистрации (pcd_side1 -> pcd_front):\n",
      "RegistrationResult with fitness=8.735392e-01, inlier_rmse=7.086597e-01, and correspondence_set size of 22201\n",
      "Access transformation to get result.\n",
      "Визуализация после глобальной регистрации (1 к 3)...\n",
      "\n",
      "--- Точная регистрация ICP: downsampled_pcd_norm_1 -> downsampled_pcd_norm_3 ---\n",
      "ICP: Max correspondence distance set to 2.25 (mm if voxel_size is mm)\n",
      "Результат ICP (fitness=0.2435, rmse=0.5871):\n",
      "RegistrationResult with fitness=2.435176e-01, inlier_rmse=5.871472e-01, and correspondence_set size of 6189\n",
      "Access transformation to get result.\n",
      "Визуализация после ICP (1 к 3)...\n",
      "\n",
      "--- Объединение выровненных облаков ---\n"
     ]
    }
   ],
   "execution_count": 62
  },
  {
   "metadata": {
    "ExecuteTime": {
     "end_time": "2025-07-18T10:28:14.556812Z",
     "start_time": "2025-07-18T10:27:18.444565Z"
    }
   },
   "cell_type": "code",
   "source": [
    "# --- Блок использования ICP алгоритма с жестким сдвигом ---\n",
    "print(\"Выполняем глобальную регистрацию: pcd_side1 -> pcd_front\")\n",
    "\n",
    "reg_side1_to_front = execute_global_registration(\n",
    "    downsampled_pcd_norm_2,\n",
    "    downsampled_pcd_norm_1,\n",
    "    fpfh_side2,\n",
    "    fpfh_side1,\n",
    "    voxel_size\n",
    ")\n",
    "\n",
    "print(f\"Результат глобальной регистрации (pcd_side1 -> pcd_front):\")\n",
    "print(reg_side1_to_front)\n",
    "\n",
    "initial_transform_side1 = reg_side1_to_front.transformation\n",
    "\n",
    "pcd_side1_aligned = downsampled_pcd_norm_2.transform(initial_transform_side1)\n",
    "\n",
    "print(\"Визуализация после глобальной регистрации (1 к 3)...\")\n",
    "o3d.visualization.draw_geometries(\n",
    "    [downsampled_pcd_norm_1, pcd_side1_aligned],\n",
    "    window_name=\"Глобальное выравнивание: 1 к 3\",\n",
    "    width=1280, height=1080\n",
    ")\n",
    "\n",
    "# --- Параметры поворота и сдвига ---\n",
    "# Углы Эйлера (в градусах): rx, ry, rz\n",
    "rx, ry, rz = 180, 0, 0  # углы Эйлера\n",
    "dx, dy, dz = 0, 100.0, 0.0  # смещение\n",
    "\n",
    "initial_transform_euler = euler_to_transform_matrix(rx, ry, rz, translation=(dx, dy, dz))\n",
    "\n",
    "# --- Точная регистрация ICP ---\n",
    "print(\"\\n--- Точная регистрация ICP: downsampled_pcd_norm_1 -> downsampled_pcd_norm_3 ---\")\n",
    "reg_icp_1_to_3 = execute_icp_with_shift(\n",
    "    source_pcd=pcd_side1_aligned,\n",
    "    target_pcd=downsampled_pcd_norm_1,\n",
    "    shift_vector=initial_transform_euler,\n",
    "    voxel_size=voxel_size\n",
    ")\n",
    "\n",
    "print(f\"Результат ICP (fitness={reg_icp_1_to_3.fitness:.4f}, rmse={reg_icp_1_to_3.inlier_rmse:.4f}):\")\n",
    "print(reg_icp_1_to_3)\n",
    "\n",
    "final_transform_1_to_3 = reg_icp_1_to_3.transformation\n",
    "pcd_1_final_aligned = downsampled_pcd_norm_2.transform(final_transform_1_to_3)\n",
    "\n",
    "# --- Визуализация после ICP ---\n",
    "coord_frame = o3d.geometry.TriangleMesh.create_coordinate_frame(\n",
    "    size=50.0, origin=[0, 0, 0]\n",
    ")\n",
    "print(\"Визуализация после ICP (1 к 3)...\")\n",
    "o3d.visualization.draw_geometries(\n",
    "    [downsampled_pcd_norm_1, pcd_1_final_aligned,coord_frame],\n",
    "    window_name=\"ICP выравнивание: 1 к 3\",\n",
    "    width=1280, height=1080\n",
    ")\n",
    "\n",
    "# --- Объединение двух выровненных облаков ---\n",
    "print(\"\\n--- Объединение выровненных облаков ---\")\n",
    "combined_pcd_4_clouds = o3d.geometry.PointCloud()\n",
    "\n",
    "combined_pcd_4_clouds.points = o3d.utility.Vector3dVector(\n",
    "    np.concatenate((\n",
    "        np.asarray(downsampled_pcd_norm_1.points),\n",
    "        np.asarray(pcd_1_final_aligned.points)\n",
    "    ))\n",
    ")\n",
    "\n",
    "combined_pcd_4_clouds.normals = o3d.utility.Vector3dVector(\n",
    "    np.concatenate((\n",
    "        np.asarray(downsampled_pcd_norm_1.normals),\n",
    "        np.asarray(pcd_1_final_aligned.normals)\n",
    "    ))\n",
    ")\n"
   ],
   "id": "4a63eb51fd2c220",
   "outputs": [
    {
     "name": "stdout",
     "output_type": "stream",
     "text": [
      "Выполняем глобальную регистрацию: pcd_side1 -> pcd_front\n",
      "Результат глобальной регистрации (pcd_side1 -> pcd_front):\n",
      "RegistrationResult with fitness=8.561479e-01, inlier_rmse=6.725449e-01, and correspondence_set size of 21759\n",
      "Access transformation to get result.\n",
      "Визуализация после глобальной регистрации (1 к 3)...\n",
      "\n",
      "--- Точная регистрация ICP: downsampled_pcd_norm_1 -> downsampled_pcd_norm_3 ---\n",
      "[ICP] Max correspondence distance: 2.250\n",
      "[ICP] Initial transform:\n",
      "[[ 1.00000000e+00  0.00000000e+00  0.00000000e+00  0.00000000e+00]\n",
      " [ 0.00000000e+00 -1.00000000e+00 -1.22460635e-16  1.00000000e+02]\n",
      " [ 0.00000000e+00  1.22460635e-16 -1.00000000e+00  0.00000000e+00]\n",
      " [ 0.00000000e+00  0.00000000e+00  0.00000000e+00  1.00000000e+00]]\n",
      "Результат ICP (fitness=0.0000, rmse=0.0000):\n",
      "RegistrationResult with fitness=0.000000e+00, inlier_rmse=0.000000e+00, and correspondence_set size of 0\n",
      "Access transformation to get result.\n",
      "Визуализация после ICP (1 к 3)...\n",
      "\n",
      "--- Объединение выровненных облаков ---\n"
     ]
    }
   ],
   "execution_count": 50
  },
  {
   "cell_type": "code",
   "id": "cacfe33e",
   "metadata": {
    "ExecuteTime": {
     "end_time": "2025-07-17T11:15:05.393640300Z",
     "start_time": "2025-07-16T15:19:10.705988Z"
    }
   },
   "source": [
    "o3d.visualization.draw_geometries([downsampled_pcd_norm_2, combined_pcd_4_clouds], \n",
    "                                  window_name=\"Глобальное выравнивание: Side1 к Front\",\n",
    "                                  width=1280,\n",
    "                                  height=1080)"
   ],
   "outputs": [],
   "execution_count": 44
  },
  {
   "cell_type": "code",
   "id": "ac2be707",
   "metadata": {
    "ExecuteTime": {
     "end_time": "2025-07-21T12:18:31.966837Z",
     "start_time": "2025-07-21T12:18:30.787379Z"
    }
   },
   "source": [
    "viz(downsampled_pcd_norm_2)\n",
    "viz(downsampled_pcd_norm_1)"
   ],
   "outputs": [],
   "execution_count": 24
  },
  {
   "cell_type": "code",
   "id": "39f6be52",
   "metadata": {
    "ExecuteTime": {
     "end_time": "2025-07-21T11:30:27.442639Z",
     "start_time": "2025-07-21T11:30:27.409385Z"
    }
   },
   "source": [
    "# --- Опционально: Финальный downsample объединенного облака ---\n",
    "# Это поможет уменьшить плотность в перекрывающихся областях и убрать небольшие шумы.\n",
    "# Используйте меньший voxel_size для этой последней чистки.\n",
    "print(f\"Точек до финального downsample (объединенное): {len(combined_pcd_4_clouds.points)}\")\n",
    "combined_pcd_4_clouds = combined_pcd_4_clouds.voxel_down_sample(voxel_size=voxel_size / 2)\n",
    "print(f\"Точек после финального downsample (объединенное): {len(combined_pcd_4_clouds.points)}\")\n",
    "\n",
    "# --- Визуализация итогового объединенного облака ---\n",
    "print(\"\\n--- Финальная визуализация объединенного облака (две пластины) ---\")\n",
    "o3d.visualization.draw_geometries(\n",
    "    [combined_pcd_4_clouds],\n",
    "    zoom=0.8,\n",
    "    front=[0.45, -0.9, 0.0],\n",
    "    lookat=[0.0, 0.0, 0.0],\n",
    "    up=[0.0, 0.0, 1.0],\n",
    "    window_name=\"Объединенное облако двух пластин\"\n",
    ")\n",
    "\n",
    "# --- Сохранение итогового объединенного облака (опционально) ---\n",
    "output_path = \"combined_two_clouds.pcd\"\n",
    "o3d.io.write_point_cloud(output_path, combined_pcd_4_clouds)\n",
    "print(f\"Объединенное облако сохранено в: {output_path}\")\n",
    "\n",
    "\n",
    "\n",
    "\n",
    "o3d.visualization.draw_geometries([downsampled_pcd_norm_1, pcd_side1_aligned], \n",
    "                                  window_name=\"Глобальное выравнивание: Side1 к Front\",\n",
    "                                  width=1280,\n",
    "                                  height=1080)"
   ],
   "outputs": [
    {
     "ename": "NameError",
     "evalue": "name 'combined_pcd_4_clouds' is not defined",
     "output_type": "error",
     "traceback": [
      "\u001B[1;31m---------------------------------------------------------------------------\u001B[0m",
      "\u001B[1;31mNameError\u001B[0m                                 Traceback (most recent call last)",
      "Cell \u001B[1;32mIn[44], line 4\u001B[0m\n\u001B[0;32m      1\u001B[0m \u001B[38;5;66;03m# --- Опционально: Финальный downsample объединенного облака ---\u001B[39;00m\n\u001B[0;32m      2\u001B[0m \u001B[38;5;66;03m# Это поможет уменьшить плотность в перекрывающихся областях и убрать небольшие шумы.\u001B[39;00m\n\u001B[0;32m      3\u001B[0m \u001B[38;5;66;03m# Используйте меньший voxel_size для этой последней чистки.\u001B[39;00m\n\u001B[1;32m----> 4\u001B[0m \u001B[38;5;28mprint\u001B[39m(\u001B[38;5;124mf\u001B[39m\u001B[38;5;124m\"\u001B[39m\u001B[38;5;124mТочек до финального downsample (объединенное): \u001B[39m\u001B[38;5;132;01m{\u001B[39;00m\u001B[38;5;28mlen\u001B[39m(\u001B[43mcombined_pcd_4_clouds\u001B[49m\u001B[38;5;241m.\u001B[39mpoints)\u001B[38;5;132;01m}\u001B[39;00m\u001B[38;5;124m\"\u001B[39m)\n\u001B[0;32m      5\u001B[0m combined_pcd_4_clouds \u001B[38;5;241m=\u001B[39m combined_pcd_4_clouds\u001B[38;5;241m.\u001B[39mvoxel_down_sample(voxel_size\u001B[38;5;241m=\u001B[39mvoxel_size \u001B[38;5;241m/\u001B[39m \u001B[38;5;241m2\u001B[39m)\n\u001B[0;32m      6\u001B[0m \u001B[38;5;28mprint\u001B[39m(\u001B[38;5;124mf\u001B[39m\u001B[38;5;124m\"\u001B[39m\u001B[38;5;124mТочек после финального downsample (объединенное): \u001B[39m\u001B[38;5;132;01m{\u001B[39;00m\u001B[38;5;28mlen\u001B[39m(combined_pcd_4_clouds\u001B[38;5;241m.\u001B[39mpoints)\u001B[38;5;132;01m}\u001B[39;00m\u001B[38;5;124m\"\u001B[39m)\n",
      "\u001B[1;31mNameError\u001B[0m: name 'combined_pcd_4_clouds' is not defined"
     ]
    }
   ],
   "execution_count": 44
  },
  {
   "metadata": {
    "ExecuteTime": {
     "end_time": "2025-07-21T13:56:34.877342Z",
     "start_time": "2025-07-21T13:55:11.574908Z"
    }
   },
   "cell_type": "code",
   "source": [
    "# Настройки\n",
    "axis = 1  # 0=X, 1=Y, 2=Z — например, по вертикали\n",
    "threshold = 12.0\n",
    "primary_mode = \"max\"  # Например, используем верх объекта\n",
    "secondary_mode = get_opposite_mode(primary_mode)\n",
    "\n",
    "# Исходные облака\n",
    "pcd_top = downsampled_pcd_norm_1\n",
    "pcd_bottom = downsampled_pcd_norm_2\n",
    "\n",
    "# Извлекаем грани\n",
    "edge_top = extract_edge_by_axis(pcd_top, axis=axis, mode=primary_mode, threshold=threshold)\n",
    "edge_bottom = extract_edge_by_axis(pcd_bottom, axis=axis, mode=secondary_mode, threshold=threshold)\n",
    "\n",
    "# Вычисляем нормали и признаки\n",
    "edge_top.estimate_normals(search_param=o3d.geometry.KDTreeSearchParamHybrid(radius=voxel_size*2, max_nn=30))\n",
    "edge_bottom.estimate_normals(search_param=o3d.geometry.KDTreeSearchParamHybrid(radius=voxel_size*2, max_nn=30))\n",
    "\n",
    "fpfh_top = compute_fpfh_features(edge_top, voxel_size*5)\n",
    "fpfh_bottom = compute_fpfh_features(edge_bottom, voxel_size*5)\n",
    "\n",
    "# Глобальная регистрация по граням\n",
    "reg_result = execute_global_registration(edge_bottom, edge_top, fpfh_bottom, fpfh_top, voxel_size)\n",
    "\n",
    "# Применяем трансформацию ко всему облаку\n",
    "transformed_pcd = copy.deepcopy(pcd_bottom)\n",
    "transformed_pcd.transform(reg_result.transformation)\n",
    "\n",
    "# Точная ICP-регистрация\n",
    "refined_reg = execute_icp_registration(\n",
    "    transformed_pcd, pcd_top, reg_result.transformation, voxel_size\n",
    ")\n",
    "final_transform = refined_reg.transformation\n",
    "\n",
    "# Финально выровненное облако\n",
    "aligned_pcd = copy.deepcopy(pcd_bottom)\n",
    "aligned_pcd.transform(final_transform)\n",
    "\n",
    "combined = o3d.geometry.PointCloud()\n",
    "combined.points = o3d.utility.Vector3dVector(\n",
    "    np.vstack((np.asarray(pcd_top.points), np.asarray(aligned_pcd.points)))\n",
    ")\n",
    "combined.normals = o3d.utility.Vector3dVector(\n",
    "    np.vstack((np.asarray(pcd_top.normals), np.asarray(aligned_pcd.normals)))\n",
    ")\n",
    "\n",
    "# Визуализация\n",
    "o3d.visualization.draw_geometries([combined], window_name=\"Объединённое облако\")\n",
    "viz(downsampled_pcd_norm_1, \"Исходное облако\")\n",
    "viz(downsampled_pcd_norm_2, \"Отсеченное по Z облако\")\n",
    "\n"
   ],
   "id": "6a21eea8fd77b5b",
   "outputs": [
    {
     "name": "stdout",
     "output_type": "stream",
     "text": [
      "ICP: Max correspondence distance set to 2.25 (mm if voxel_size is mm)\n"
     ]
    }
   ],
   "execution_count": 89
  },
  {
   "metadata": {
    "ExecuteTime": {
     "end_time": "2025-07-21T13:53:54.269706Z",
     "start_time": "2025-07-21T13:53:54.044195Z"
    }
   },
   "cell_type": "code",
   "source": [
    "size_top = get_bounding_box_size(pcd_top)\n",
    "size_bottom = get_bounding_box_size(pcd_bottom)\n",
    "size_combined = get_bounding_box_size(combined)\n",
    "print(\"Размер фрагмента 1: \",get_bounding_box_size(o3d.io.read_point_cloud(Path(\"crop_to_crop_testing/output/fragment_2.pcd\"))))\n",
    "print(\"Размер фрагмента 2: \", (get_bounding_box_size(o3d.io.read_point_cloud(Path(\"crop_to_crop_testing/output/fragment_4.pcd\")))))\n",
    "print(\"Размер pcd_top:      \", size_top)\n",
    "print(\"Размер pcd_bottom:   \", size_bottom)\n",
    "print(\"Размер combined_pcd: \", size_combined)"
   ],
   "id": "5966748b74fe421f",
   "outputs": [
    {
     "name": "stdout",
     "output_type": "stream",
     "text": [
      "Размер фрагмента 1:  [300.29943848 150.69787598  67.29692841]\n",
      "Размер фрагмента 2:  [300.58532715 150.76516724  68.1679306 ]\n",
      "Размер pcd_top:       [300.06458433 150.64499046  66.99252405]\n",
      "Размер pcd_bottom:    [300.48801275 150.73599724  67.24636705]\n",
      "Размер combined_pcd:  [305.7448964  294.80618541  66.99252405]\n"
     ]
    }
   ],
   "execution_count": 87
  }
 ],
 "metadata": {
  "kernelspec": {
   "display_name": "o3d",
   "language": "python",
   "name": "python3"
  },
  "language_info": {
   "codemirror_mode": {
    "name": "ipython",
    "version": 3
   },
   "file_extension": ".py",
   "mimetype": "text/x-python",
   "name": "python",
   "nbconvert_exporter": "python",
   "pygments_lexer": "ipython3",
   "version": "3.10.18"
  }
 },
 "nbformat": 4,
 "nbformat_minor": 5
}
